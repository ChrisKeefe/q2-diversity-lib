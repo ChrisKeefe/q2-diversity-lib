{
 "cells": [
  {
   "cell_type": "code",
   "execution_count": 12,
   "metadata": {},
   "outputs": [],
   "source": [
    "import biom\n",
    "from io import StringIO\n",
    "from skbio import TreeNode\n",
    "import numpy as np\n",
    "import unifrac\n",
    "import qiime2"
   ]
  },
  {
   "cell_type": "code",
   "execution_count": 13,
   "metadata": {},
   "outputs": [],
   "source": [
    "table = np.array(\n",
    "    [[1, 3, 0, 1, 0],\n",
    "     [0, 2, 0, 4, 4],\n",
    "     [0, 0, 6, 2, 1],\n",
    "     [0, 0, 1, 1, 1],\n",
    "     [5, 3, 5, 0, 0], \n",
    "     [0, 0, 0, 3, 5]])\n",
    "\n",
    "sample_ids = list('ABCDEF')\n",
    "feature_ids = ['Feature%d' % i for i in range(1, 6)]\n",
    "tree = TreeNode.read(\n",
    "            StringIO('(((((OTU1:0.5,OTU2:0.5):0.5,OTU3:1.0):1.0):0.0,(OTU4:'\n",
    "                     '0.75,OTU5:0.75):1.25):0.0)root;'))\n",
    "table_to_save = Table(table, feature_ids, sample_ids, table_id='')"
   ]
  },
  {
   "cell_type": "code",
   "execution_count": 15,
   "metadata": {},
   "outputs": [
    {
     "name": "stdout",
     "output_type": "stream",
     "text": [
      "(((((OTU1:0.5,OTU2:0.5):0.5,OTU3:1.0):1.0):0.0,(OTU4:0.75,OTU5:0.75):1.25):0.0)root;\n",
      "\n"
     ]
    }
   ],
   "source": [
    "print(tree)"
   ]
  },
  {
   "cell_type": "code",
   "execution_count": null,
   "metadata": {},
   "outputs": [],
   "source": []
  }
 ],
 "metadata": {
  "kernelspec": {
   "display_name": "Python 3",
   "language": "python",
   "name": "python3"
  },
  "language_info": {
   "codemirror_mode": {
    "name": "ipython",
    "version": 3
   },
   "file_extension": ".py",
   "mimetype": "text/x-python",
   "name": "python",
   "nbconvert_exporter": "python",
   "pygments_lexer": "ipython3",
   "version": "3.6.10"
  }
 },
 "nbformat": 4,
 "nbformat_minor": 4
}
