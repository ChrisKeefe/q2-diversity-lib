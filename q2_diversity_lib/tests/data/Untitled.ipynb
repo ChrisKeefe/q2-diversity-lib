{
 "cells": [
  {
   "cell_type": "code",
   "execution_count": 8,
   "metadata": {},
   "outputs": [],
   "source": [
    "import biom\n",
    "import unifrac\n",
    "import qiime2"
   ]
  },
  {
   "cell_type": "code",
   "execution_count": 9,
   "metadata": {},
   "outputs": [],
   "source": [
    "vaw_fp = 'vaw.biom'\n",
    "rf_fp = 'vaw_rf.biom'\n",
    "tree_fp = 'vaw.nwk'\n",
    "\n",
    "vaw = biom.load_table(vaw_fp)\n",
    "rf = biom.load_table(rf_fp)"
   ]
  },
  {
   "cell_type": "code",
   "execution_count": 10,
   "metadata": {},
   "outputs": [
    {
     "name": "stdout",
     "output_type": "stream",
     "text": [
      "# Constructed from biom file\n",
      "#OTU ID\tSample1\tSample2\tSample3\tSample4\tSample5\tSample6\n",
      "GG_OTU_1\t0.0\t0.0\t1.0\t0.0\t0.0\t0.0\n",
      "GG_OTU_2\t5.0\t1.0\t0.0\t2.0\t3.0\t1.0\n",
      "GG_OTU_3\t0.0\t0.0\t1.0\t4.0\t0.0\t2.0\n",
      "GG_OTU_4\t2.0\t1.0\t1.0\t0.0\t0.0\t1.0\n",
      "GG_OTU_5\t0.0\t1.0\t1.0\t0.0\t0.0\t0.0\n"
     ]
    }
   ],
   "source": [
    "print(vaw)"
   ]
  },
  {
   "cell_type": "code",
   "execution_count": 11,
   "metadata": {},
   "outputs": [
    {
     "name": "stdout",
     "output_type": "stream",
     "text": [
      "# Constructed from biom file\n",
      "#OTU ID\tSample1\tSample2\tSample3\tSample4\tSample5\tSample6\n",
      "GG_OTU_1\t0.0\t0.0\t0.25\t0.0\t0.0\t0.0\n",
      "GG_OTU_2\t0.7142857142857143\t0.3333333333333333\t0.0\t0.3333333333333333\t1.0\t0.25\n",
      "GG_OTU_3\t0.0\t0.0\t0.25\t0.6666666666666666\t0.0\t0.5\n",
      "GG_OTU_4\t0.2857142857142857\t0.3333333333333333\t0.25\t0.0\t0.0\t0.25\n",
      "GG_OTU_5\t0.0\t0.3333333333333333\t0.25\t0.0\t0.0\t0.0\n"
     ]
    }
   ],
   "source": [
    "print(rf)"
   ]
  },
  {
   "cell_type": "code",
   "execution_count": 12,
   "metadata": {},
   "outputs": [
    {
     "name": "stdout",
     "output_type": "stream",
     "text": [
      "# Constructed from biom file\n",
      "#OTU ID\tSample1\tSample2\tSample3\tSample4\tSample5\tSample6\n",
      "GG_OTU_1\t0.0\t0.0\t0.25\t0.0\t0.0\t0.0\n",
      "GG_OTU_2\t0.7142857142857143\t0.3333333333333333\t0.0\t0.3333333333333333\t1.0\t0.25\n",
      "GG_OTU_3\t0.0\t0.0\t0.25\t0.6666666666666666\t0.0\t0.5\n",
      "GG_OTU_4\t0.2857142857142857\t0.3333333333333333\t0.25\t0.0\t0.0\t0.25\n",
      "GG_OTU_5\t0.0\t0.3333333333333333\t0.25\t0.0\t0.0\t0.0\n"
     ]
    }
   ],
   "source": [
    "print(vaw.norm(axis='sample', inplace=False))"
   ]
  },
  {
   "cell_type": "code",
   "execution_count": 21,
   "metadata": {},
   "outputs": [],
   "source": [
    "dm = unifrac.weighted_normalized(vaw_fp, tree_fp, threads=1, variance_adjusted=True, bypass_tips=False)"
   ]
  },
  {
   "cell_type": "code",
   "execution_count": 18,
   "metadata": {},
   "outputs": [],
   "source": [
    "rf_dm = unifrac.weighted_normalized(rf_fp, tree_fp, threads=1, variance_adjusted=True, bypass_tips=False)"
   ]
  },
  {
   "cell_type": "code",
   "execution_count": 23,
   "metadata": {},
   "outputs": [
    {
     "name": "stdout",
     "output_type": "stream",
     "text": [
      "6x6 distance matrix\n",
      "IDs:\n",
      "'Sample1', 'Sample2', 'Sample3', 'Sample4', 'Sample5', 'Sample6'\n",
      "Data:\n",
      "[[0.         0.408604   0.62401846 0.46394809 0.28571429 0.27663178]\n",
      " [0.408604   0.         0.37985937 0.68849925 0.68076163 0.47357814]\n",
      " [0.62401846 0.37985937 0.         0.77132544 0.88128975 0.50471141]\n",
      " [0.46394809 0.68849925 0.77132544 0.         0.66666667 0.27092976]\n",
      " [0.28571429 0.68076163 0.88128975 0.66666667 0.         0.47359907]\n",
      " [0.27663178 0.47357814 0.50471141 0.27092976 0.47359907 0.        ]]\n"
     ]
    }
   ],
   "source": [
    "print(dm)"
   ]
  },
  {
   "cell_type": "code",
   "execution_count": 24,
   "metadata": {},
   "outputs": [
    {
     "name": "stdout",
     "output_type": "stream",
     "text": [
      "6x6 distance matrix\n",
      "IDs:\n",
      "'Sample1', 'Sample2', 'Sample3', 'Sample4', 'Sample5', 'Sample6'\n",
      "Data:\n",
      "[[0.         0.39417926 0.61210603 0.4606296  0.28571429 0.26398152]\n",
      " [0.39417926 0.         0.38205067 0.68076163 0.68076163 0.47373864]\n",
      " [0.61210603 0.38205067 0.         0.76697897 0.88210642 0.50471141]\n",
      " [0.4606296  0.68076163 0.76697897 0.         0.66666667 0.26682702]\n",
      " [0.28571429 0.68076163 0.88210642 0.66666667 0.         0.47169423]\n",
      " [0.26398152 0.47373864 0.50471141 0.26682702 0.47169423 0.        ]]\n"
     ]
    }
   ],
   "source": [
    "print(rf_dm)"
   ]
  },
  {
   "cell_type": "code",
   "execution_count": null,
   "metadata": {},
   "outputs": [],
   "source": []
  }
 ],
 "metadata": {
  "kernelspec": {
   "display_name": "Python 3",
   "language": "python",
   "name": "python3"
  },
  "language_info": {
   "codemirror_mode": {
    "name": "ipython",
    "version": 3
   },
   "file_extension": ".py",
   "mimetype": "text/x-python",
   "name": "python",
   "nbconvert_exporter": "python",
   "pygments_lexer": "ipython3",
   "version": "3.6.10"
  }
 },
 "nbformat": 4,
 "nbformat_minor": 4
}
